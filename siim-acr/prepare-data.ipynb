{
 "cells": [
  {
   "cell_type": "code",
   "execution_count": 1,
   "metadata": {},
   "outputs": [],
   "source": [
    "from fastai.vision import *\n",
    "%config IPCompleter.greedy=True"
   ]
  },
  {
   "cell_type": "markdown",
   "metadata": {},
   "source": [
    "Download data from https://www.kaggle.com/seesee/siim-train-test\n",
    "\n",
    "Put this into `data/245622-651264-bundle-archive.zip`"
   ]
  },
  {
   "cell_type": "code",
   "execution_count": null,
   "metadata": {},
   "outputs": [],
   "source": [
    "!unzip ../data/245622-651264-bundle-archive.zip -d ../data/"
   ]
  },
  {
   "cell_type": "code",
   "execution_count": 46,
   "metadata": {
    "scrolled": true
   },
   "outputs": [],
   "source": [
    "files = Path(\"../data/siim/dicom-images-train\").glob('**/*.dcm')\n",
    "input_images = [path.relative_to(\"../data/siim/dicom-images-train\") for path in files]\n",
    "\n",
    "file_map = {path.stem : path for path in input_images}"
   ]
  },
  {
   "cell_type": "code",
   "execution_count": 47,
   "metadata": {},
   "outputs": [
    {
     "data": {
      "text/html": [
       "<div>\n",
       "<style scoped>\n",
       "    .dataframe tbody tr th:only-of-type {\n",
       "        vertical-align: middle;\n",
       "    }\n",
       "\n",
       "    .dataframe tbody tr th {\n",
       "        vertical-align: top;\n",
       "    }\n",
       "\n",
       "    .dataframe thead th {\n",
       "        text-align: right;\n",
       "    }\n",
       "</style>\n",
       "<table border=\"1\" class=\"dataframe\">\n",
       "  <thead>\n",
       "    <tr style=\"text-align: right;\">\n",
       "      <th></th>\n",
       "      <th>ImageId</th>\n",
       "      <th>EncodedPixels</th>\n",
       "      <th>present</th>\n",
       "    </tr>\n",
       "  </thead>\n",
       "  <tbody>\n",
       "    <tr>\n",
       "      <th>0</th>\n",
       "      <td>1.2.276.0.7230010.3.1.2.8323329.6904.151787520...</td>\n",
       "      <td>-1</td>\n",
       "      <td>no</td>\n",
       "    </tr>\n",
       "    <tr>\n",
       "      <th>1</th>\n",
       "      <td>1.2.276.0.7230010.3.1.2.8323329.13666.15178752...</td>\n",
       "      <td>557374 2 1015 8 1009 14 1002 20 997 26 990 32 ...</td>\n",
       "      <td>yes</td>\n",
       "    </tr>\n",
       "    <tr>\n",
       "      <th>2</th>\n",
       "      <td>1.2.276.0.7230010.3.1.2.8323329.11028.15178752...</td>\n",
       "      <td>-1</td>\n",
       "      <td>no</td>\n",
       "    </tr>\n",
       "    <tr>\n",
       "      <th>3</th>\n",
       "      <td>1.2.276.0.7230010.3.1.2.8323329.10366.15178752...</td>\n",
       "      <td>514175 10 1008 29 994 30 993 32 991 33 990 34 ...</td>\n",
       "      <td>yes</td>\n",
       "    </tr>\n",
       "    <tr>\n",
       "      <th>4</th>\n",
       "      <td>1.2.276.0.7230010.3.1.2.8323329.10016.15178752...</td>\n",
       "      <td>592184 33 976 58 956 73 941 88 926 102 917 109...</td>\n",
       "      <td>yes</td>\n",
       "    </tr>\n",
       "  </tbody>\n",
       "</table>\n",
       "</div>"
      ],
      "text/plain": [
       "                                             ImageId  \\\n",
       "0  1.2.276.0.7230010.3.1.2.8323329.6904.151787520...   \n",
       "1  1.2.276.0.7230010.3.1.2.8323329.13666.15178752...   \n",
       "2  1.2.276.0.7230010.3.1.2.8323329.11028.15178752...   \n",
       "3  1.2.276.0.7230010.3.1.2.8323329.10366.15178752...   \n",
       "4  1.2.276.0.7230010.3.1.2.8323329.10016.15178752...   \n",
       "\n",
       "                                       EncodedPixels present  \n",
       "0                                                 -1      no  \n",
       "1  557374 2 1015 8 1009 14 1002 20 997 26 990 32 ...     yes  \n",
       "2                                                 -1      no  \n",
       "3  514175 10 1008 29 994 30 993 32 991 33 990 34 ...     yes  \n",
       "4  592184 33 976 58 956 73 941 88 926 102 917 109...     yes  "
      ]
     },
     "execution_count": 47,
     "metadata": {},
     "output_type": "execute_result"
    }
   ],
   "source": [
    "def remap(value):\n",
    "    if value == \"-1\":\n",
    "        return \"no\"\n",
    "    else:\n",
    "        return \"yes\"\n",
    "\n",
    "df = pd.read_csv('../data/siim/train-rle.csv', header='infer')\n",
    "df[\"present\"] = df[\" EncodedPixels\"].map(remap)\n",
    "df[\"ImageId\"] = df[\"ImageId\"].map(lambda filename: file_map[filename])\n",
    "df.head()"
   ]
  },
  {
   "cell_type": "code",
   "execution_count": null,
   "metadata": {},
   "outputs": [],
   "source": [
    "np.random.seed(42)\n",
    "data = ImageDataBunch.from_df(Path('../data/siim/dicom-images-train'), df, suffix=\".dcm\", valid_pct=0.2,\n",
    "        label_col=2,\n",
    "        ds_tfms=get_transforms(), size=224, num_workers=4).normalize(imagenet_stats)"
   ]
  }
 ],
 "metadata": {
  "kernelspec": {
   "display_name": "Python 3",
   "language": "python",
   "name": "python3"
  },
  "language_info": {
   "codemirror_mode": {
    "name": "ipython",
    "version": 3
   },
   "file_extension": ".py",
   "mimetype": "text/x-python",
   "name": "python",
   "nbconvert_exporter": "python",
   "pygments_lexer": "ipython3",
   "version": "3.7.4"
  }
 },
 "nbformat": 4,
 "nbformat_minor": 4
}
